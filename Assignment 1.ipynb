{
 "cells": [
  {
   "cell_type": "markdown",
   "id": "c39e5d98",
   "metadata": {},
   "source": [
    "### Q1. In the below elements which of them are values or an expression? eg:- values can be integer or string and expressions will be mathematical operators.\n",
    "1. * \n",
    "2. 'hello'\n",
    "3. -87.8\n",
    "4. - \n",
    "5. / \n",
    "6. +\n",
    "7. 6 \n",
    "----------------------------------------------------------------------------\n",
    "### Answer\n",
    "#### Values\n",
    "1. 'hello'\n",
    "2. -87.8\n",
    "3. 6\n",
    "\n",
    "#### Expressions\n",
    "1. *\n",
    "2. -\n",
    "3. /\n",
    "4. +"
   ]
  },
  {
   "cell_type": "markdown",
   "id": "b799f574",
   "metadata": {},
   "source": [
    "### Q2. What is the difference between string and variable?\n",
    "----------------------------------------------------------------------------\n",
    "### Answer\n",
    "\n",
    "#### String\n",
    "String is a datatype made of charecters. For an example \"Rahul\" is a string.\n",
    "String can be written within '' and \"\".\n",
    "\n",
    "#### Variable\n",
    "Variables are used to store different datatypes. Example\n",
    "- MyVariable = \"Rahul\" (String)\n",
    "- myvariable = 1 (Integer)"
   ]
  },
  {
   "cell_type": "code",
   "execution_count": 23,
   "id": "794f17af",
   "metadata": {},
   "outputs": [
    {
     "name": "stdout",
     "output_type": "stream",
     "text": [
      "Projesh\n",
      "<class 'str'>\n"
     ]
    }
   ],
   "source": [
    "#as you can see \n",
    "#myvariable is a variable\n",
    "#\"Projesh\" is the string\n",
    "#now myvariable has a datatype which is string\n",
    "\n",
    "myvariable = \"Projesh\"\n",
    "print(myvariable)\n",
    "print(type(myvariable))"
   ]
  },
  {
   "cell_type": "markdown",
   "id": "06c64eab",
   "metadata": {},
   "source": [
    "### Q3. Describe three different data types.\n",
    "----------------------------------------------------------------------------\n",
    "### Answer\n",
    "The three main data types are following-\n",
    "\n",
    "1. String is used to for charecters. Example - \"Rahul\",'Projesh'\n",
    "2. Integer is used for numerical values. Example - 1,2,3\n",
    "3. Float is used for decimal values. Example - 3.14, 4.186"
   ]
  },
  {
   "cell_type": "code",
   "execution_count": 21,
   "id": "0503419f",
   "metadata": {},
   "outputs": [
    {
     "name": "stdout",
     "output_type": "stream",
     "text": [
      "Projesh\n",
      "<class 'str'>\n",
      "1\n",
      "<class 'int'>\n",
      "3.14\n",
      "<class 'float'>\n"
     ]
    }
   ],
   "source": [
    "#string\n",
    "mystring = 'Projesh'\n",
    "print(mystring)\n",
    "print(type(mystring))\n",
    "\n",
    "#Integer\n",
    "myinteger = 1\n",
    "print(myinteger)\n",
    "print(type(myinteger))\n",
    "\n",
    "#float\n",
    "myfloat = 3.14\n",
    "print(myfloat)\n",
    "print(type(myfloat))"
   ]
  },
  {
   "cell_type": "markdown",
   "id": "dff0b3ac",
   "metadata": {},
   "source": [
    "### Q4. What is an expression made up of? What do all expressions do?\n",
    "----------------------------------------------------------------------------\n",
    "### Answer\n",
    "An expression is made up of one or more values, operators, and/or function when evaluated, produce a resulting value. \n",
    "- Expressions can be as simple as a single value or \n",
    "- as complex as a combination of multiple values and operations.\n",
    "\n",
    "Here are some components commonly found in expressions:\n",
    "\n",
    "- Values: these are reffering to numbers and strings\n",
    "- Operators: \n",
    "    1. Common operators include arithmetic operators (such as +, -, *, /),\n",
    "    2. comparison operators (such as ==, >, <), \n",
    "    3. logical operators (such as and, or, not), and \n",
    "    4. assignment operators (such as =).\n",
    "- Function calls: Expressions can be used inside a function to simplify the expression itself."
   ]
  },
  {
   "cell_type": "code",
   "execution_count": 28,
   "id": "2daceb5d",
   "metadata": {},
   "outputs": [
    {
     "data": {
      "text/plain": [
       "25"
      ]
     },
     "execution_count": 28,
     "metadata": {},
     "output_type": "execute_result"
    }
   ],
   "source": [
    "result = (2+3)*5\n",
    "result\n",
    "\n",
    "#as you can see 2,3,5 are values\n",
    "#+ and * are arithmetic operators\n",
    "#which help to calculate the expresion and \n",
    "#store the answer in result variable"
   ]
  },
  {
   "cell_type": "markdown",
   "id": "0f2e64df",
   "metadata": {},
   "source": [
    "### Q5. This assignment statements, like spam = 10. What is the difference between an expression and a statement?\n",
    "----------------------------------------------------------------------------\n",
    "### Answer\n",
    "- Expression is a combination of values and operators which gives an answer and stores it in a variable\n",
    "- Statment helps in assigning values to variables and can be used in loops as well"
   ]
  },
  {
   "cell_type": "code",
   "execution_count": 29,
   "id": "c06b8e99",
   "metadata": {},
   "outputs": [
    {
     "name": "stdout",
     "output_type": "stream",
     "text": [
      "4\n",
      "10\n"
     ]
    }
   ],
   "source": [
    "#expression\n",
    "Total = 2+2\n",
    "print(Total)\n",
    "\n",
    "#Statement\n",
    "Spam = 10\n",
    "print(Spam)"
   ]
  },
  {
   "cell_type": "markdown",
   "id": "5d87ea1b",
   "metadata": {},
   "source": [
    "### Q6. After running the following code, what does the variable bacon contain?\n",
    "- bacon = 22\n",
    "- bacon + 1\n",
    "----------------------------------------------------------------------------\n",
    "### Answer"
   ]
  },
  {
   "cell_type": "code",
   "execution_count": 2,
   "id": "dacba85e",
   "metadata": {},
   "outputs": [
    {
     "data": {
      "text/plain": [
       "23"
      ]
     },
     "execution_count": 2,
     "metadata": {},
     "output_type": "execute_result"
    }
   ],
   "source": [
    "bacon = 22\n",
    "bacon + 1"
   ]
  },
  {
   "cell_type": "markdown",
   "id": "619857ef",
   "metadata": {},
   "source": [
    "### Q7. What should the values of the following two terms be?\n",
    "- 'spam' + 'spamspam'\n",
    "- 'spam' * 3\n",
    "----------------------------------------------------------------------------\n",
    "### Answer"
   ]
  },
  {
   "cell_type": "code",
   "execution_count": 6,
   "id": "e7a62454",
   "metadata": {},
   "outputs": [
    {
     "data": {
      "text/plain": [
       "'spamspamspam'"
      ]
     },
     "execution_count": 6,
     "metadata": {},
     "output_type": "execute_result"
    }
   ],
   "source": [
    "'spam' + 'spamspam'"
   ]
  },
  {
   "cell_type": "code",
   "execution_count": 7,
   "id": "a67e9700",
   "metadata": {},
   "outputs": [
    {
     "data": {
      "text/plain": [
       "'spamspamspam'"
      ]
     },
     "execution_count": 7,
     "metadata": {},
     "output_type": "execute_result"
    }
   ],
   "source": [
    "'spam' * 3"
   ]
  },
  {
   "cell_type": "markdown",
   "id": "fb0a95c3",
   "metadata": {},
   "source": [
    "### Q8. Why is eggs a valid variable name while 100 is invalid?\n",
    "----------------------------------------------------------------------------\n",
    "### Answer\n",
    "\n",
    "- The reason being eggs start with a letter which is acceptable while naming a variable.\n",
    "- While 100 starts with a number and you cannot name a variable starting with digits"
   ]
  },
  {
   "cell_type": "code",
   "execution_count": 13,
   "id": "d0a5b38a",
   "metadata": {},
   "outputs": [
    {
     "name": "stdout",
     "output_type": "stream",
     "text": [
      "1\n"
     ]
    }
   ],
   "source": [
    "eggs = 1\n",
    "print(eggs)"
   ]
  },
  {
   "cell_type": "code",
   "execution_count": 15,
   "id": "ba01aa4a",
   "metadata": {},
   "outputs": [
    {
     "ename": "SyntaxError",
     "evalue": "cannot assign to literal (715364942.py, line 1)",
     "output_type": "error",
     "traceback": [
      "\u001b[1;36m  File \u001b[1;32m\"C:\\Users\\proje\\AppData\\Local\\Temp\\ipykernel_4088\\715364942.py\"\u001b[1;36m, line \u001b[1;32m1\u001b[0m\n\u001b[1;33m    100 = 2\u001b[0m\n\u001b[1;37m    ^\u001b[0m\n\u001b[1;31mSyntaxError\u001b[0m\u001b[1;31m:\u001b[0m cannot assign to literal\n"
     ]
    }
   ],
   "source": [
    "100 = \"Rahul\"\n",
    "print(100)"
   ]
  },
  {
   "cell_type": "markdown",
   "id": "b53448c9",
   "metadata": {},
   "source": [
    "### Q9. What three functions can be used to get the integer, floating-point number, or string version of a value?\n",
    "----------------------------------------------------------------------------\n",
    "### Answer"
   ]
  },
  {
   "cell_type": "code",
   "execution_count": 43,
   "id": "fb080ed3",
   "metadata": {},
   "outputs": [
    {
     "name": "stdout",
     "output_type": "stream",
     "text": [
      "20\n",
      "<class 'str'>\n"
     ]
    }
   ],
   "source": [
    "#assigning a variable\n",
    "myvalue = '20'\n",
    "print(myvalue)\n",
    "print(type(myvalue))\n",
    "\n",
    "#as you can see myvalue is a string datatype"
   ]
  },
  {
   "cell_type": "code",
   "execution_count": 44,
   "id": "86c36f58",
   "metadata": {},
   "outputs": [
    {
     "name": "stdout",
     "output_type": "stream",
     "text": [
      "20\n",
      "<class 'int'>\n"
     ]
    }
   ],
   "source": [
    "#changing myvalue to integer\n",
    "myvalue = int(myvalue)\n",
    "print(myvalue)\n",
    "print(type(myvalue))\n",
    "\n",
    "#now as you can see myvalue has been changed from string to integer"
   ]
  },
  {
   "cell_type": "code",
   "execution_count": 46,
   "id": "ddbacdd6",
   "metadata": {},
   "outputs": [
    {
     "name": "stdout",
     "output_type": "stream",
     "text": [
      "20.0\n",
      "<class 'float'>\n"
     ]
    }
   ],
   "source": [
    "#changing myvalue to float\n",
    "myvalue = float(myvalue)\n",
    "print(myvalue)\n",
    "print(type(myvalue))\n",
    "\n",
    "#now as you can see myvalue has been changed from integer to float"
   ]
  },
  {
   "cell_type": "code",
   "execution_count": 48,
   "id": "7974c6cf",
   "metadata": {},
   "outputs": [
    {
     "name": "stdout",
     "output_type": "stream",
     "text": [
      "20.0\n",
      "<class 'str'>\n"
     ]
    }
   ],
   "source": [
    "#changing myvalue back to string\n",
    "myvalue = str(myvalue)\n",
    "print(myvalue)\n",
    "print(type(myvalue))\n",
    "\n",
    "#now as you can see myvalue has been changed from float to string again"
   ]
  },
  {
   "cell_type": "markdown",
   "id": "e5d2e93a",
   "metadata": {},
   "source": [
    "### Q10. Why does this expression cause an error? How can you fix it?\n",
    "- 'I have eaten ' + 99 + ' burritos.'\n",
    "----------------------------------------------------------------------------\n",
    "### Answer\n",
    "- Here 'I have eaten' and 'burritos' are strings. you cannot concatenate strings with integers in python.\n",
    "-  To fix this we need to write 99 with quotes as well, which will conver 99 from integer to a string."
   ]
  },
  {
   "cell_type": "code",
   "execution_count": 26,
   "id": "66c1c4b0",
   "metadata": {},
   "outputs": [
    {
     "data": {
      "text/plain": [
       "'I have eaten 99 burritos.'"
      ]
     },
     "execution_count": 26,
     "metadata": {},
     "output_type": "execute_result"
    }
   ],
   "source": [
    "'I have eaten ' + '99' + ' burritos.'"
   ]
  }
 ],
 "metadata": {
  "kernelspec": {
   "display_name": "Python 3 (ipykernel)",
   "language": "python",
   "name": "python3"
  },
  "language_info": {
   "codemirror_mode": {
    "name": "ipython",
    "version": 3
   },
   "file_extension": ".py",
   "mimetype": "text/x-python",
   "name": "python",
   "nbconvert_exporter": "python",
   "pygments_lexer": "ipython3",
   "version": "3.9.13"
  }
 },
 "nbformat": 4,
 "nbformat_minor": 5
}
